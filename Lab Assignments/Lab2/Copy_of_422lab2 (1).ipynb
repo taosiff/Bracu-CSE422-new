{
  "nbformat": 4,
  "nbformat_minor": 0,
  "metadata": {
    "colab": {
      "provenance": []
    },
    "kernelspec": {
      "name": "python3",
      "display_name": "Python 3"
    },
    "language_info": {
      "name": "python"
    }
  },
  "cells": [
    {
      "cell_type": "code",
      "source": [
        "import random\n",
        "\n",
        "def calculatee_fitnessss(rtn, course_s):\n",
        "    intersection_pnlty = 0\n",
        "    control_pnlty = 0\n",
        "\n",
        "    for tms in range(len(rtn[0])):\n",
        "        course_schedulee = [rtn[cidx][tms] for cidx in range(len(course_s))]\n",
        "        intersection_pnlty += len(course_schedulee) - len(set(course_schedulee))\n",
        "\n",
        "    for cdix in range(len(courses)):\n",
        "        control_pnlty += abs(sum([rtn[cdix][tms] for tms in range(len(rtn[0]))]) - 1)\n",
        "\n",
        "    return -(intersection_pnlty + control_pnlty)\n",
        "\n",
        "\n",
        "def slt_parentt(p):\n",
        "    return random.choice(p), random.choice(p)\n",
        "\n",
        "\n",
        "def crsovr(p1, p2):\n",
        "    crsovr_point = random.randint(1, len(p1) - 1)\n",
        "    offsp1 = p1[:crsovr_point] + p2[crsovr_point:]\n",
        "    offsp2 = p2[:crsovr_point] + p1[crsovr_point:]\n",
        "    return offsp1, offsp2\n",
        "\n",
        "\n",
        "def muta_te(chr, mutate_rt):\n",
        "    return [1 - gn if random.random() < mutate_rt else gn for gn in chr]\n",
        "\n",
        "\n",
        "def generate__ppl(ppl_size, chr_lengthh):\n",
        "    return [[random.randint(0, 1) for _ in range(chr_lengthh)] for _ in range(ppl_size)]\n",
        "\n",
        "def genetic_algoo(ppl_size, mutate_r, max_itr, course_s, tms):\n",
        "    chr_lengthh = len(course_s) * tms\n",
        "    ppl = generate__ppl(ppl_size, chr_lengthh)\n",
        "\n",
        "    for iteration in range(max_itr):\n",
        "        new_ppl = []\n",
        "\n",
        "        for _ in range(ppl_size // 2):\n",
        "            p1, p2 = slt_parentt(ppl)\n",
        "            offsp1, offsp2 = crsovr(p1, p2)\n",
        "            offsp1 = muta_te(offsp1, mutate_r)\n",
        "            offsp2 = muta_te(offsp2, mutate_r)\n",
        "            new_ppl.extend([offsp1, offsp2])\n",
        "\n",
        "        ppl = new_ppl\n",
        "\n",
        "    fitness_values = [calculatee_fitnessss([individual[i:i+len(course_s)] for i in range(0, len(individual), len(course_s))], course_s) for individual in ppl]\n",
        "    bsidx = fitness_values.index(max(fitness_values))\n",
        "    bs = ppl[bsidx]\n",
        "\n",
        "    return bs, max(fitness_values)\n",
        "\n",
        "\n",
        "def read_input(file_path):\n",
        "    with open(file_path, 'r') as file:\n",
        "        lines = file.readlines()\n",
        "        N, T = map(int, lines[0].split())\n",
        "        course_s = [line.strip() for line in lines[1:]]\n",
        "    return N, T, course_s\n",
        "\n",
        "\n",
        "input_filee = '/content/22301178_MdTaosif_CSE422_02_Assignment02_Summer2024_InputFile.txt'\n",
        "N, T, courses = read_input(input_filee)\n",
        "\n",
        "\n",
        "if T < N:\n",
        "    print(\"The number of timeslots (T) must be greater than or equal to the number of courses (N).\")\n",
        "else:\n",
        "    population_size = 100\n",
        "    mutation_rate = 0.01\n",
        "    max_iterations = 100\n",
        "    best_solution, fitness_value = genetic_algoo(population_size, mutation_rate, max_iterations, courses, T)\n",
        "    print(''.join(map(str, best_solution)))\n",
        "    print(fitness_value)\n"
      ],
      "metadata": {
        "colab": {
          "base_uri": "https://localhost:8080/"
        },
        "id": "c37xvuXMmn_n",
        "outputId": "5ff950ea-6fdf-42f4-cbd3-c253e78d5eab"
      },
      "execution_count": null,
      "outputs": [
        {
          "output_type": "stream",
          "name": "stdout",
          "text": [
            "001100010\n",
            "-3\n"
          ]
        }
      ]
    }
  ]
}